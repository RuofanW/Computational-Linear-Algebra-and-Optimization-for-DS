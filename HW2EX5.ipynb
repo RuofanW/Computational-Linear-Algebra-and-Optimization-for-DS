{
 "cells": [
  {
   "cell_type": "code",
   "execution_count": 18,
   "metadata": {
    "collapsed": true
   },
   "outputs": [],
   "source": [
    "import numpy as np"
   ]
  },
  {
   "cell_type": "code",
   "execution_count": 19,
   "metadata": {
    "collapsed": true
   },
   "outputs": [],
   "source": [
    "def project(A, b):\n",
    "    x = np.dot(np.dot(np.linalg.inv(np.dot(A.T, A)), A.T), b)\n",
    "    p = np.dot(A, x)\n",
    "    e = b - p\n",
    "    print('p:', p)\n",
    "    print('e:', e)\n",
    "    print('A.T times e:', np.dot(A.T, e))\n"
   ]
  },
  {
   "cell_type": "code",
   "execution_count": 11,
   "metadata": {
    "collapsed": false
   },
   "outputs": [
    {
     "name": "stdout",
     "output_type": "stream",
     "text": [
      "p: [ 2.  3.  0.]\n",
      "e: [ 0.  0.  4.]\n",
      "A.T times e: [ 0.  0.]\n"
     ]
    }
   ],
   "source": [
    "A1 = np.array([[1,1],[0,1],[0,0]])\n",
    "b1 = np.array([2,3,4]).T\n",
    "project(A1, b1)"
   ]
  },
  {
   "cell_type": "code",
   "execution_count": 12,
   "metadata": {
    "collapsed": false
   },
   "outputs": [
    {
     "name": "stdout",
     "output_type": "stream",
     "text": [
      "p: [ 4.  4.  6.]\n",
      "e: [ 0.  0.  0.]\n",
      "A.T times e: [ 0.  0.]\n"
     ]
    }
   ],
   "source": [
    "A2 = np.array([[1,1],[1,1],[0,1]])\n",
    "b2 = np.array([4,4,6]).T\n",
    "project(A2, b2)"
   ]
  },
  {
   "cell_type": "code",
   "execution_count": 5,
   "metadata": {
    "collapsed": false
   },
   "outputs": [
    {
     "name": "stdout",
     "output_type": "stream",
     "text": [
      "p: [  5.00000000e-01  -1.80000000e-01  -2.40000000e-01   4.00000000e-01\n",
      "   1.11022302e-16]\n",
      "e: [  5.00000000e-01   1.80000000e-01   2.40000000e-01  -4.00000000e-01\n",
      "  -1.11022302e-16]\n",
      "A.T times e: [ -1.33226763e-15  -1.77635684e-15]\n"
     ]
    }
   ],
   "source": [
    "A3 = np.array([[1,-6],[3,6],[4,8],[5,0],[7,8]])\n",
    "c = np.array([1,0,0,0,0]).T\n",
    "project(A3, c)"
   ]
  },
  {
   "cell_type": "code",
   "execution_count": 33,
   "metadata": {
    "collapsed": false
   },
   "outputs": [],
   "source": [
    "A = np.array([[1, 2], [0, 3]])"
   ]
  },
  {
   "cell_type": "code",
   "execution_count": 34,
   "metadata": {
    "collapsed": true
   },
   "outputs": [],
   "source": [
    "eigval1, eigvec1 = np.linalg.eig(A)"
   ]
  },
  {
   "cell_type": "code",
   "execution_count": 42,
   "metadata": {
    "collapsed": false
   },
   "outputs": [
    {
     "data": {
      "text/plain": [
       "array([[ 1.        ,  0.70710678],\n",
       "       [ 0.        ,  0.70710678]])"
      ]
     },
     "execution_count": 42,
     "metadata": {},
     "output_type": "execute_result"
    }
   ],
   "source": [
    "eigvec1"
   ]
  },
  {
   "cell_type": "code",
   "execution_count": 36,
   "metadata": {
    "collapsed": true
   },
   "outputs": [],
   "source": [
    "eigval2, eigvec2 = np.linalg.eig(A.T)"
   ]
  },
  {
   "cell_type": "code",
   "execution_count": 37,
   "metadata": {
    "collapsed": false
   },
   "outputs": [
    {
     "data": {
      "text/plain": [
       "array([[ 0.        ,  0.70710678],\n",
       "       [ 1.        , -0.70710678]])"
      ]
     },
     "execution_count": 37,
     "metadata": {},
     "output_type": "execute_result"
    }
   ],
   "source": [
    "eigvec2"
   ]
  },
  {
   "cell_type": "code",
   "execution_count": 38,
   "metadata": {
    "collapsed": false
   },
   "outputs": [],
   "source": [
    "# eigvec1 = np.array([[1,0],[1,1]])\n",
    "test = A - np.array([[1,0], [0,3]])\n"
   ]
  },
  {
   "cell_type": "code",
   "execution_count": 39,
   "metadata": {
    "collapsed": false
   },
   "outputs": [
    {
     "data": {
      "text/plain": [
       "(array([[ 1.        ,  0.70710678],\n",
       "        [ 0.        ,  0.70710678]]), array([[0, 2],\n",
       "        [0, 0]]))"
      ]
     },
     "execution_count": 39,
     "metadata": {},
     "output_type": "execute_result"
    }
   ],
   "source": [
    "eigvec1, test"
   ]
  },
  {
   "cell_type": "code",
   "execution_count": 40,
   "metadata": {
    "collapsed": false
   },
   "outputs": [
    {
     "data": {
      "text/plain": [
       "array([[ 0.,  2.],\n",
       "       [ 0.,  0.]])"
      ]
     },
     "execution_count": 40,
     "metadata": {},
     "output_type": "execute_result"
    }
   ],
   "source": [
    "np.dot(eigvec1, test)"
   ]
  },
  {
   "cell_type": "code",
   "execution_count": null,
   "metadata": {
    "collapsed": true
   },
   "outputs": [],
   "source": []
  }
 ],
 "metadata": {
  "kernelspec": {
   "display_name": "Python 3",
   "language": "python",
   "name": "python3"
  },
  "language_info": {
   "codemirror_mode": {
    "name": "ipython",
    "version": 3
   },
   "file_extension": ".py",
   "mimetype": "text/x-python",
   "name": "python",
   "nbconvert_exporter": "python",
   "pygments_lexer": "ipython3",
   "version": "3.6.0"
  }
 },
 "nbformat": 4,
 "nbformat_minor": 2
}
