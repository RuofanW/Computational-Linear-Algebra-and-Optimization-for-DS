{
 "cells": [
  {
   "cell_type": "code",
   "execution_count": 4,
   "metadata": {
    "collapsed": true
   },
   "outputs": [],
   "source": [
    "import numpy as np\n",
    "def project(A, b):\n",
    "    x = np.dot(np.dot(np.linalg.inv(np.dot(A.T, A)), A.T), b)\n",
    "    p = np.dot(A, x)\n",
    "    e = b - p\n",
    "    print('p:', p)\n",
    "    print('e:', e)\n",
    "    print('A.T times e:', np.dot(A.T, e))\n",
    "\n"
   ]
  },
  {
   "cell_type": "markdown",
   "metadata": {},
   "source": [
    "In order to fid least square solution,  we need to project vector $b$ onto the space of $A$"
   ]
  },
  {
   "cell_type": "code",
   "execution_count": 5,
   "metadata": {
    "collapsed": false
   },
   "outputs": [
    {
     "name": "stdout",
     "output_type": "stream",
     "text": [
      "p: [-0.07692308  0.15384615  0.53846154  0.46153846 -0.07692308]\n",
      "e: [ 0.07692308 -0.15384615  0.46153846 -0.46153846  0.07692308]\n",
      "A.T times e: [ -6.38378239e-16  -6.66133815e-16  -1.55431223e-15]\n"
     ]
    }
   ],
   "source": [
    "A = np.array([[1,1,1,1,1], [2,-1,0,1,2], [4,1,0,1,4]]).T\n",
    "b = np.array([0,0,1,0,0]).T\n",
    "project(A, b)\n"
   ]
  },
  {
   "cell_type": "markdown",
   "metadata": {
    "collapsed": true
   },
   "source": [
    "So the minnimum distance can be represented by the vector $e$"
   ]
  },
  {
   "cell_type": "code",
   "execution_count": null,
   "metadata": {
    "collapsed": true
   },
   "outputs": [],
   "source": []
  }
 ],
 "metadata": {
  "kernelspec": {
   "display_name": "Python 3",
   "language": "python",
   "name": "python3"
  },
  "language_info": {
   "codemirror_mode": {
    "name": "ipython",
    "version": 3
   },
   "file_extension": ".py",
   "mimetype": "text/x-python",
   "name": "python",
   "nbconvert_exporter": "python",
   "pygments_lexer": "ipython3",
   "version": "3.6.0"
  }
 },
 "nbformat": 4,
 "nbformat_minor": 2
}
